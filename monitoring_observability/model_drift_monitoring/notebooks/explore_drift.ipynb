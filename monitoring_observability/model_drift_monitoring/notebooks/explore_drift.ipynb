{
 "cells": [
  {
   "cell_type": "markdown",
   "id": "1773b8a1",
   "metadata": {},
   "source": [
    "# Exploration de la dérive du modèle ML\n",
    "Ce notebook permet d'explorer manuellement les distributions des features entre les datasets **train** et **production** ."
   ]
  },
  {
   "cell_type": "markdown",
   "id": "466cb73d",
   "metadata": {},
   "source": []
  },
  {
   "cell_type": "code",
   "execution_count": null,
   "id": "56b07798",
   "metadata": {},
   "outputs": [],
   "source": [
    "import pandas as pd\n",
    "import matplotlib.pyplot as plt\n",
    "import seaborn as sns\n",
    "from scipy.stats import ks_2samp\n",
    "\n",
    "# Charger les données\n",
    "train_df = pd.read_csv('train_data.csv')\n",
    "prod_df = pd.read_csv('prod_data.csv')\n",
    "\n",
    "# Liste des features à analyser\n",
    "features = ['age', 'income', 'country', 'gender', 'transaction_amount']"
   ]
  },
  {
   "cell_type": "markdown",
   "id": "9697bdbb",
   "metadata": {},
   "source": [
    "## Comparaison des distributions numériques"
   ]
  },
  {
   "cell_type": "code",
   "execution_count": null,
   "id": "0e2df5f4",
   "metadata": {},
   "outputs": [],
   "source": [
    "num_features = ['age', 'income', 'transaction_amount']\n",
    "    \n",
    "for feature in num_features:\n",
    "    plt.figure(figsize=(10,4))\n",
    "    sns.kdeplot(train_df[feature], label='Train', fill=True)\n",
    "    sns.kdeplot(prod_df[feature], label='Prod', fill=True)\n",
    "    plt.title(f'Distribution de {feature}')\n",
    "    plt.legend()\n",
    "    plt.show()\n",
    "    \n",
    "    # Test KS pour dérive statistique\n",
    "    ks_stat, p_value = ks_2samp(train_df[feature], prod_df[feature])\n",
    "    print(f'{feature} - KS Statistic: {ks_stat:.4f}, p-value: {p_value:.4f}')"
   ]
  },
  {
   "cell_type": "markdown",
   "id": "cf558446",
   "metadata": {},
   "source": [
    "## Comparaison des distributions catégorielles"
   ]
  },
  {
   "cell_type": "code",
   "execution_count": null,
   "id": "9d7f0fd9",
   "metadata": {},
   "outputs": [],
   "source": [
    "cat_features = ['country', 'gender']\n",
    "    \n",
    "for feature in cat_features:\n",
    "    train_counts = train_df[feature].value_counts(normalize=True)\n",
    "    prod_counts = prod_df[feature].value_counts(normalize=True)\n",
    "    df_compare = pd.concat([train_counts, prod_counts], axis=1, keys=['Train', 'Prod']).fillna(0)\n",
    "    df_compare.plot(kind='bar', figsize=(10,4))\n",
    "    plt.title(f'Distribution catégorielle de {feature}')\n",
    "    plt.show()\n",
    "    \n",
    "    # KS test pour les distributions codées numériquement\n",
    "    merged = pd.get_dummies(pd.concat([train_df[feature], prod_df[feature]], axis=0))\n",
    "    print(f'Distribution de {feature}:')\n",
    "    print(df_compare)"
   ]
  },
  {
   "cell_type": "markdown",
   "id": "d8e4b83e",
   "metadata": {},
   "source": [
    "## Conclusion\n",
    "Cette analyse permet de détecter visuellement et statistiquement les dérives des features et d'identifier les features critiques à surveiller dans la production."
   ]
  },
  {
   "cell_type": "markdown",
   "id": "cc8d3aee",
   "metadata": {},
   "source": []
  }
 ],
 "metadata": {
  "kernelspec": {
   "display_name": "venv (3.12.2)",
   "language": "python",
   "name": "python3"
  },
  "language_info": {
   "name": "python",
   "version": "3.12.2"
  }
 },
 "nbformat": 4,
 "nbformat_minor": 5
}
